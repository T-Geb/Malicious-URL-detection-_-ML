{
 "cells": [
  {
   "cell_type": "markdown",
   "id": "a32ef8f6-2edf-470b-bb23-7a9717cb7578",
   "metadata": {},
   "source": [
    "## Importing Libraries"
   ]
  },
  {
   "cell_type": "code",
   "execution_count": 68,
   "id": "9ab49a17-dd84-4d25-985c-ba57b3789f71",
   "metadata": {},
   "outputs": [],
   "source": [
    "import matplotlib.pyplot as plt   # to create visualizaton tools\n",
    "import pandas as pd  # to read csv file"
   ]
  },
  {
   "cell_type": "markdown",
   "id": "b10e24b6-718f-4fb4-b6d2-77d7d3943fd8",
   "metadata": {},
   "source": [
    "## Importing Dataset"
   ]
  },
  {
   "cell_type": "code",
   "execution_count": 69,
   "id": "4ff755ee-1aa0-4da2-a70a-24f1134d355d",
   "metadata": {},
   "outputs": [],
   "source": [
    "mal_ds = pd.read_csv('random_sample.csv') #importing data\n",
    "X = mal_ds.iloc[:,0]  #getting all rows from the first column - URLs: our independent variable\n",
    "Y = mal_ds.iloc[:,1] # getting all rows from the second column - the classifications : out dependent variable"
   ]
  },
  {
   "cell_type": "code",
   "execution_count": 70,
   "id": "4aa989b7-f357-4b5e-8d51-01c6728228a5",
   "metadata": {},
   "outputs": [
    {
     "name": "stdout",
     "output_type": "stream",
     "text": [
      "Index(['URLs', 'Label'], dtype='object')\n"
     ]
    }
   ],
   "source": [
    "print(mal_ds.columns) #Printing column names to check"
   ]
  },
  {
   "cell_type": "code",
   "execution_count": 71,
   "id": "d6da6268-27da-4fa2-a3e2-52f178e57302",
   "metadata": {},
   "outputs": [
    {
     "name": "stdout",
     "output_type": "stream",
     "text": [
      "['bms.seregon.com/repository/wool/scm/uploads/processingpart1.pdf'\n",
      " 'blastro.com/artists/artistpage/Del+the+Funky+Homosapien.html'\n",
      " 'rafasantacruz.com/login1876.html'\n",
      " 'manta.com/ic/mt6vhtj/ca/lemieux-alain-associes-consultants-inc'\n",
      " 'http://marvel.com/news/story/21573/lady_sif_visits_the_childrens_hospital_los_angeles']\n"
     ]
    }
   ],
   "source": [
    "print(X[:5].values) #printing first five values of X to check for proper importing"
   ]
  },
  {
   "cell_type": "code",
   "execution_count": 72,
   "id": "7a395a0c-29a4-403e-b3a9-5d968df55f45",
   "metadata": {},
   "outputs": [
    {
     "name": "stdout",
     "output_type": "stream",
     "text": [
      "['phishing' 'benign' 'benign' 'benign' 'benign']\n"
     ]
    }
   ],
   "source": [
    "print(Y[:5].values) #printing first five values of Y to check for proper importing"
   ]
  },
  {
   "cell_type": "markdown",
   "id": "a134b87d-36bf-40df-9b6b-03c2c029317f",
   "metadata": {},
   "source": [
    "## Checking for Missing Data and Deleting Rows for Duplicated URLs"
   ]
  },
  {
   "cell_type": "code",
   "execution_count": 73,
   "id": "15d28acb-cc06-4463-b2f5-b0eed5ecbf1a",
   "metadata": {},
   "outputs": [
    {
     "name": "stdout",
     "output_type": "stream",
     "text": [
      "[0 0]\n"
     ]
    }
   ],
   "source": [
    "##Checking for missing data. -- return value of [0 0] means no missing values in both X & Y columns\n",
    "count_missing_values = mal_ds.isnull().sum()\n",
    "print(count_missing_values.values)"
   ]
  },
  {
   "cell_type": "code",
   "execution_count": 74,
   "id": "edba8c9e-a053-4dfb-8da1-c6763dcaf051",
   "metadata": {},
   "outputs": [
    {
     "name": "stdout",
     "output_type": "stream",
     "text": [
      "                                                    URLs    Label\n",
      "3019   http://9779.info/%E6%89%8B%E5%B7%A5%E7%B1%B3%E...  malware\n",
      "3427   http://www.pubyun.com/wiki/lib/exe/css.php?t=d...  malware\n",
      "3673   http://9779.info/%E6%A0%91%E5%8F%B6%E8%B4%B4%E...  malware\n",
      "4236   http://9779.info/%E7%B1%B3%E7%B2%92%E7%B2%98%E...  malware\n",
      "4703   http://9779.info/%E7%B1%B3%E7%B2%92%E7%B2%98%E...  malware\n",
      "...                                                  ...      ...\n",
      "99266  http://9779.info/%E7%B2%98%E8%B4%B4%E7%94%BB%E...  malware\n",
      "99346  http://9779.info/%E8%B1%86%E5%AD%90%E7%B2%98%E...  malware\n",
      "99435  http://hotlinegsm.com/products/samsung-i9300-g...  malware\n",
      "99628  http://adinamed.com/news/index.php?page=6&cati...  malware\n",
      "99681  http://www.114633.com/cl/?module=System&method...  malware\n",
      "\n",
      "[854 rows x 2 columns]\n"
     ]
    }
   ],
   "source": [
    "##Checking for duplicated rows in column 1 - URL list\n",
    "duplicate_urls = mal_ds[mal_ds.duplicated(subset=mal_ds.columns[0])]\n",
    "print(duplicate_urls)"
   ]
  },
  {
   "cell_type": "code",
   "execution_count": 75,
   "id": "39dd9d83-4055-4744-8180-dc7212e0d1b5",
   "metadata": {},
   "outputs": [
    {
     "name": "stdout",
     "output_type": "stream",
     "text": [
      "Before duplicate clean-up: (100000, 2)\n"
     ]
    }
   ],
   "source": [
    "print(\"Before duplicate clean-up:\", mal_ds.shape)"
   ]
  },
  {
   "cell_type": "code",
   "execution_count": 76,
   "id": "8a7a166e-b307-4d82-8c6d-1e852249254c",
   "metadata": {},
   "outputs": [],
   "source": [
    "##Deleting Duplicated rows based on identified duplicates of the first column - URLs \n",
    "mal_ds = mal_ds.drop_duplicates(subset=mal_ds.columns[0], keep='first')\n",
    "X = mal_ds['URLs'] # re-assigning X for the updated data\n",
    "Y = mal_ds['Label'] # re-assigning X for the updated data"
   ]
  },
  {
   "cell_type": "code",
   "execution_count": 77,
   "id": "430056fb-76e0-48ee-a269-7d6857d4b8dc",
   "metadata": {},
   "outputs": [
    {
     "name": "stdout",
     "output_type": "stream",
     "text": [
      "After duplicate clean-up: (99146, 2)\n"
     ]
    }
   ],
   "source": [
    "#Checking the number of URLs before and after dropping duplicate URLs\n",
    "print(\"After duplicate clean-up:\", mal_ds.shape)"
   ]
  },
  {
   "cell_type": "markdown",
   "id": "011447c6-7cd0-4a56-bb38-c0195db47247",
   "metadata": {},
   "source": [
    "## Descriptive Method : Visualization 1 - Bar Chart of Classification Count"
   ]
  },
  {
   "cell_type": "code",
   "execution_count": 78,
   "id": "9e9f1501-8bad-4b01-aee1-d33a616af0bb",
   "metadata": {},
   "outputs": [],
   "source": [
    "import matplotlib\n",
    "import matplotlib.pyplot as plt\n"
   ]
  },
  {
   "cell_type": "code",
   "execution_count": 79,
   "id": "832a81ad-a871-4f69-a91f-1405ce538b35",
   "metadata": {},
   "outputs": [
    {
     "name": "stdout",
     "output_type": "stream",
     "text": [
      "3.10.0\n"
     ]
    }
   ],
   "source": [
    "print(matplotlib.__version__)"
   ]
  },
  {
   "cell_type": "code",
   "execution_count": 80,
   "id": "d8b08c96-e2bf-4eac-9eb5-2b904a6890eb",
   "metadata": {},
   "outputs": [],
   "source": [
    "# to see the plots inside the notebook, we use the magic command %"
   ]
  },
  {
   "cell_type": "code",
   "execution_count": 81,
   "id": "017e46ee-ffa8-4fc4-bde9-7c8f9e88fa16",
   "metadata": {},
   "outputs": [],
   "source": [
    "%matplotlib inline  "
   ]
  },
  {
   "cell_type": "code",
   "execution_count": 82,
   "id": "a748824c-6211-4020-84dc-a138c856baa3",
   "metadata": {},
   "outputs": [
    {
     "name": "stdout",
     "output_type": "stream",
     "text": [
      "Class Counts:\n",
      "\n",
      " Label\n",
      "benign        65753\n",
      "defacement    14773\n",
      "phishing      14519\n",
      "malware        4101\n",
      "Name: count, dtype: int64\n"
     ]
    },
    {
     "data": {
      "image/png": "[encoded data removed]",
      "text/plain": [
       "<Figure size 640x480 with 1 Axes>"
      ]
     },
     "metadata": {},
     "output_type": "display_data"
    }
   ],
   "source": [
    "#Followed matplotlib website guide on 'Bar Chart with Individual Bar Colors' and customized by using value_count and accessing classification and counts.\n",
    "# Y represents - mal_ds['Label']\n",
    "\n",
    "label_counts = Y.value_counts()  #counting the values of each class using value_count. This will return a series\n",
    "print(\"Class Counts:\\n\\n\", label_counts) #DEBUG\n",
    "\n",
    "figure, axis = plt.subplots() #assigning figure and axis for the bar plot\n",
    "\n",
    "classification = Y.value_counts().index.tolist() #getting the classifications from the count\n",
    "counts = Y.value_counts().iloc # getting the number of classfications\n",
    "bar_labels = ['Benign', 'Defacement', 'Phishing', 'Malware']  \n",
    "bar_colors = ['tab:red', 'tab:blue', 'tab:orange', 'tab:cyan']\n",
    "\n",
    "#accessing each classification and count by index from the series returned from value_count()\n",
    "bar_class = [classification[0], classification[1], classification[2], classification[3]] \n",
    "bar_counts = [counts[0], counts[1],counts[2],counts[3]]\n",
    "\n",
    "\n",
    "#Setting the x and y axis, applying color and title\n",
    "axis.bar(bar_class, bar_counts, label=bar_labels, color=bar_colors)\n",
    "axis.set_ylabel('Class Occurance')\n",
    "axis.set_xlabel('Classification')\n",
    "axis.set_title('Malicious Classification')\n",
    "axis.legend(title='Class Color')\n",
    "\n",
    "#using a for loop to show the count in numbers on each bar\n",
    "for i in range(len(bar_class)):\n",
    "    axis.text(i,bar_counts[i], str(bar_counts[i]), ha='center', va='bottom')\n",
    "    \n",
    "plt.show()\n",
    "\n"
   ]
  },
  {
   "cell_type": "markdown",
   "id": "329b8215-bf25-4367-8df6-aaf97de9de79",
   "metadata": {},
   "source": [
    "## Descriptive Method : Visualization 2 - Bar Chart of Top 4 Domain-Suffixes in Dataset"
   ]
  },
  {
   "cell_type": "code",
   "execution_count": 83,
   "id": "b663b1c0-47d6-40eb-847c-d8baa25816ee",
   "metadata": {},
   "outputs": [],
   "source": [
    "import tldextract\n",
    "extractor = tldextract.TLDExtract(cache_dir=False) # disabling network access to avoid issues"
   ]
  },
  {
   "cell_type": "code",
   "execution_count": 84,
   "id": "665aebaf-4885-4ba9-af90-d080fd9bf99b",
   "metadata": {},
   "outputs": [],
   "source": [
    "# extracting the domain from the suffix which contains the top level domain (e.g .com)"
   ]
  },
  {
   "cell_type": "code",
   "execution_count": 85,
   "id": "6ec1b7fc-3e40-41d5-b6e6-63f4eb303cf1",
   "metadata": {},
   "outputs": [
    {
     "data": {
      "image/png": "[encoded data removed]",
      "text/plain": [
       "<Figure size 640x480 with 1 Axes>"
      ]
     },
     "metadata": {},
     "output_type": "display_data"
    }
   ],
   "source": [
    "# X represents - mal_ds['URLs']\n",
    "#creating a method to work on one URL at a time to extract the suffix and applying the method to the URLs column\n",
    "# This method will also be used later on for feature extraction\n",
    "def get_suffix(url):\n",
    "    return tldextract.extract(url).suffix.lower()\n",
    "\n",
    "extd_domains = X.apply(get_suffix)\n",
    "\n",
    "top_domains = extd_domains.value_counts().head(4)\n",
    "suffix_name = top_domains.index.tolist()\n",
    "domain_counts = top_domains.iloc\n",
    "\n",
    "#plotting the histogram\n",
    "figure, axis = plt.subplots()\n",
    "bar_suffix = [suffix_name [0],suffix_name [1],suffix_name [2],suffix_name [3]]\n",
    "bar_count_suffix = [domain_counts[0],domain_counts[1],domain_counts[2],domain_counts[3]]\n",
    "bar_labels = ['com', 'org','net','de']\n",
    "bar_colors = ['tab:red', 'tab:blue', 'tab:orange', 'tab:cyan']\n",
    "\n",
    "#\n",
    "axis.bar(bar_suffix, bar_count_suffix, label=bar_labels, color=bar_colors)\n",
    "axis.set_ylabel('Count')\n",
    "axis.set_xlabel('Domain Suffix')\n",
    "axis.set_title('Top Four Domain-Suffix In Dataset')\n",
    "axis.legend(title='Key')\n",
    "\n",
    "\n",
    "#using a for loop to show the count in numbers on each bar\n",
    "for i in range(len(bar_suffix)):\n",
    "    axis.text(i,bar_count_suffix[i], str(bar_count_suffix[i]), ha='center', va='bottom')\n",
    "    \n",
    "plt.show()\n",
    "\n"
   ]
  },
  {
   "cell_type": "markdown",
   "id": "4063ac30-b51f-4724-a40d-68f272cdc8ed",
   "metadata": {},
   "source": [
    "## Label Encoding - Dependent Variable, Y - Classifications"
   ]
  },
  {
   "cell_type": "code",
   "execution_count": 95,
   "id": "ac252c60-8494-405e-b4e2-e07f53d15dbe",
   "metadata": {},
   "outputs": [
    {
     "name": "stdout",
     "output_type": "stream",
     "text": [
      "Label Mapping: {'benign': np.int64(0), 'defacement': np.int64(1), 'malware': np.int64(2), 'phishing': np.int64(3)}\n"
     ]
    }
   ],
   "source": [
    "from sklearn import preprocessing\n",
    "# Y represents - mal_ds['Label']\n",
    "le = preprocessing.LabelEncoder()\n",
    "le.fit(Y)  # This is where the assignment of classes to numbers happens\n",
    "\n",
    "#le.classes_ - allows us to view the labels\n",
    "# le.transform - This maps the labels to the assigned values\n",
    "le.classes_ \n",
    "le.transform(Y)\n",
    "\n",
    "#Printing \n",
    "\n",
    "label_mapping = dict(zip(le.classes_, le.transform(le.classes_)))\n",
    "print(\"Label Mapping:\", label_mapping)\n",
    "\n",
    "y = le.transform(Y)"
   ]
  },
  {
   "cell_type": "markdown",
   "id": "79175cac-3d1a-4645-8565-8a5ef1b51423",
   "metadata": {},
   "source": [
    "## Splitting Data into Train and Test Set"
   ]
  },
  {
   "cell_type": "code",
   "execution_count": 96,
   "id": "7a591597-2456-40d2-b34a-a20db20dc6ff",
   "metadata": {},
   "outputs": [],
   "source": [
    "from sklearn.model_selection import train_test_split\n",
    "x_train, x_test, y_train, y_test = train_test_split(X, y, test_size = 0.2,random_state = 42)"
   ]
  },
  {
   "cell_type": "code",
   "execution_count": 97,
   "id": "eee78d05-84c0-4d90-9323-60472963332e",
   "metadata": {},
   "outputs": [
    {
     "name": "stdout",
     "output_type": "stream",
     "text": [
      "['chesnay.homestead.com/files/ChesnayE-o/i34.htm'\n",
      " 'normanmailertheamerican.com/story.html'\n",
      " 'http://www.pret.im/0e7b22133f330d79e5add16645e3b74c/login.php'\n",
      " 'www.angelfire.com/fl/FloridaConQuest/'\n",
      " 'recreation.du.edu/jph/coaches/?t1=2&t2=81']\n",
      "['canadianheadstones.com/qc/cemetery_pf.php?cemID=52'\n",
      " 'communityfoodmoray.co.uk/'\n",
      " 'thewrestlingpage.com/wrestling-history/the-rock-tells-jonathan-coachman-to-stop-singing/'\n",
      " 'section15.ca/features/people/2001/05/09/cairine_wilson/'\n",
      " 'forums.superiorpics.com/ubbthreads/ubbthreads.php/topics/3474518/Hayden_Panettiere_at_the_27th_']\n",
      "[0 0 3 3 0]\n",
      "[0 0 0 0 0]\n"
     ]
    }
   ],
   "source": [
    "print(x_train[:5].values)\n",
    "print(x_test[:5].values)\n",
    "print(y_train[:5])\n",
    "print(y_test[:5])"
   ]
  },
  {
   "cell_type": "markdown",
   "id": "ab99d3ec-6afb-4093-b41b-2b225ddaba96",
   "metadata": {},
   "source": [
    "## Feature Extraction of URLs "
   ]
  },
  {
   "cell_type": "markdown",
   "id": "ae51d408-52eb-4a07-ae39-fc22a4b133a9",
   "metadata": {},
   "source": [
    "## Feature Extraction Methods"
   ]
  },
  {
   "cell_type": "code",
   "execution_count": null,
   "id": "f62fb7a0-c329-433a-88c3-44fd9eacba15",
   "metadata": {},
   "outputs": [],
   "source": [
    "import re. #to handle special characters"
   ]
  },
  {
   "cell_type": "code",
   "execution_count": null,
   "id": "314c0cfa-80c7-4480-99ca-960f494d0283",
   "metadata": {},
   "outputs": [],
   "source": [
    "def get_url_length(url):\n",
    "    return len(url)\n",
    "\n",
    "def count_digits(url):\n",
    "    return sum(c.isdigit() for c in url)\n",
    "\n",
    "def special_chars_check(url):\n",
    "    #The characters below match any character that is not a letter, digit or whitespace\n",
    "    return re.compile(r'[^a-zA-Z0-9]', url)\n",
    "\n",
    "def https_check(url):\n",
    "    return 1 if url.startswith(\"https\") else 0\n",
    "\n",
    "# A method to get the full domain e.g www.123.com. This method will be used in has_ip method\n",
    "def get_domain(url): \n",
    "    return tldextract.extract(url)\n",
    "\n",
    "# to check if the string contains an ip address - this checks for ipv4\n",
    "def has_ip(url): \n",
    "    domain = get_domain(url)\n",
    "    #check if domain is an ip address\n",
    "    ip_match = re.fullmatch('^(?:[0-9]{1,3}\\.){3}[0-9]{1,3}$', domain)\n",
    "    return 1 if ip_match else 0\n",
    "    "
   ]
  },
  {
   "cell_type": "markdown",
   "id": "ba62bffa-62f7-4bb4-8d3a-12fcf0d6d8d2",
   "metadata": {},
   "source": [
    "## Domain Suffix Extraction and Numeric Conversion"
   ]
  },
  {
   "cell_type": "code",
   "execution_count": 100,
   "id": "845d73f6-cbd3-4973-87a9-e1c91cabd402",
   "metadata": {},
   "outputs": [
    {
     "ename": "SyntaxError",
     "evalue": "invalid syntax (1693693570.py, line 8)",
     "output_type": "error",
     "traceback": [
      "\u001b[0;36m  Cell \u001b[0;32mIn[100], line 8\u001b[0;36m\u001b[0m\n\u001b[0;31m    suffix_enc.transform(.toarray())\u001b[0m\n\u001b[0m                         ^\u001b[0m\n\u001b[0;31mSyntaxError\u001b[0m\u001b[0;31m:\u001b[0m invalid syntax\n"
     ]
    }
   ],
   "source": [
    "#Domain Suffix Extraction:\n",
    "#This step will reuse the method get_suffix() defined under - Description Method - Visualization 2:\n",
    "from sklearn.preprocessing import OneHotEncoder\n",
    "x_train_suffix = x_train.apply(get_suffix)\n",
    "suffix_enc = OneHotEncoder(handle_unknown='ignore')\n",
    "suffix_enc.fit(x_train_suffix)\n",
    "suffix_enc_categories\n",
    "suffix_enc.transform(.toarray())\n"
   ]
  },
  {
   "cell_type": "code",
   "execution_count": null,
   "id": "6fd4858f-f6b5-494c-86dc-a387a19cc587",
   "metadata": {},
   "outputs": [],
   "source": []
  }
 ],
 "metadata": {
  "kernelspec": {
   "display_name": "Python [conda env:base] *",
   "language": "python",
   "name": "conda-base-py"
  },
  "language_info": {
   "codemirror_mode": {
    "name": "ipython",
    "version": 3
   },
   "file_extension": ".py",
   "mimetype": "text/x-python",
   "name": "python",
   "nbconvert_exporter": "python",
   "pygments_lexer": "ipython3",
   "version": "3.13.5"
  }
 },
 "nbformat": 4,
 "nbformat_minor": 5
}
